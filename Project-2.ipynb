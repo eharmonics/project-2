{
 "cells": [
  {
   "cell_type": "markdown",
   "id": "b9cb5107",
   "metadata": {},
   "source": [
    "# Titanic Dataset"
   ]
  },
  {
   "cell_type": "code",
   "execution_count": 53,
   "id": "0f9181a7",
   "metadata": {},
   "outputs": [],
   "source": [
    "import pandas as pd\n",
    "import numpy as np\n",
    "import seaborn as sns\n",
    "titanic_df = pd.read_csv('titanic.csv')"
   ]
  },
  {
   "cell_type": "code",
   "execution_count": 7,
   "id": "ed85a7bf",
   "metadata": {},
   "outputs": [
    {
     "data": {
      "text/html": [
       "<div>\n",
       "<style scoped>\n",
       "    .dataframe tbody tr th:only-of-type {\n",
       "        vertical-align: middle;\n",
       "    }\n",
       "\n",
       "    .dataframe tbody tr th {\n",
       "        vertical-align: top;\n",
       "    }\n",
       "\n",
       "    .dataframe thead th {\n",
       "        text-align: right;\n",
       "    }\n",
       "</style>\n",
       "<table border=\"1\" class=\"dataframe\">\n",
       "  <thead>\n",
       "    <tr style=\"text-align: right;\">\n",
       "      <th></th>\n",
       "      <th>PassengerId</th>\n",
       "      <th>Survived</th>\n",
       "      <th>Pclass</th>\n",
       "      <th>Name</th>\n",
       "      <th>Sex</th>\n",
       "      <th>Age</th>\n",
       "      <th>SibSp</th>\n",
       "      <th>Parch</th>\n",
       "      <th>Ticket</th>\n",
       "      <th>Fare</th>\n",
       "      <th>Cabin</th>\n",
       "      <th>Embarked</th>\n",
       "    </tr>\n",
       "  </thead>\n",
       "  <tbody>\n",
       "    <tr>\n",
       "      <th>0</th>\n",
       "      <td>1</td>\n",
       "      <td>0</td>\n",
       "      <td>3</td>\n",
       "      <td>Braund, Mr. Owen Harris</td>\n",
       "      <td>male</td>\n",
       "      <td>22.0</td>\n",
       "      <td>1</td>\n",
       "      <td>0</td>\n",
       "      <td>A/5 21171</td>\n",
       "      <td>7.2500</td>\n",
       "      <td>NaN</td>\n",
       "      <td>S</td>\n",
       "    </tr>\n",
       "    <tr>\n",
       "      <th>1</th>\n",
       "      <td>2</td>\n",
       "      <td>1</td>\n",
       "      <td>1</td>\n",
       "      <td>Cumings, Mrs. John Bradley (Florence Briggs Th...</td>\n",
       "      <td>female</td>\n",
       "      <td>38.0</td>\n",
       "      <td>1</td>\n",
       "      <td>0</td>\n",
       "      <td>PC 17599</td>\n",
       "      <td>71.2833</td>\n",
       "      <td>C85</td>\n",
       "      <td>C</td>\n",
       "    </tr>\n",
       "    <tr>\n",
       "      <th>2</th>\n",
       "      <td>3</td>\n",
       "      <td>1</td>\n",
       "      <td>3</td>\n",
       "      <td>Heikkinen, Miss. Laina</td>\n",
       "      <td>female</td>\n",
       "      <td>26.0</td>\n",
       "      <td>0</td>\n",
       "      <td>0</td>\n",
       "      <td>STON/O2. 3101282</td>\n",
       "      <td>7.9250</td>\n",
       "      <td>NaN</td>\n",
       "      <td>S</td>\n",
       "    </tr>\n",
       "    <tr>\n",
       "      <th>3</th>\n",
       "      <td>4</td>\n",
       "      <td>1</td>\n",
       "      <td>1</td>\n",
       "      <td>Futrelle, Mrs. Jacques Heath (Lily May Peel)</td>\n",
       "      <td>female</td>\n",
       "      <td>35.0</td>\n",
       "      <td>1</td>\n",
       "      <td>0</td>\n",
       "      <td>113803</td>\n",
       "      <td>53.1000</td>\n",
       "      <td>C123</td>\n",
       "      <td>S</td>\n",
       "    </tr>\n",
       "    <tr>\n",
       "      <th>4</th>\n",
       "      <td>5</td>\n",
       "      <td>0</td>\n",
       "      <td>3</td>\n",
       "      <td>Allen, Mr. William Henry</td>\n",
       "      <td>male</td>\n",
       "      <td>35.0</td>\n",
       "      <td>0</td>\n",
       "      <td>0</td>\n",
       "      <td>373450</td>\n",
       "      <td>8.0500</td>\n",
       "      <td>NaN</td>\n",
       "      <td>S</td>\n",
       "    </tr>\n",
       "  </tbody>\n",
       "</table>\n",
       "</div>"
      ],
      "text/plain": [
       "   PassengerId  Survived  Pclass  \\\n",
       "0            1         0       3   \n",
       "1            2         1       1   \n",
       "2            3         1       3   \n",
       "3            4         1       1   \n",
       "4            5         0       3   \n",
       "\n",
       "                                                Name     Sex   Age  SibSp  \\\n",
       "0                            Braund, Mr. Owen Harris    male  22.0      1   \n",
       "1  Cumings, Mrs. John Bradley (Florence Briggs Th...  female  38.0      1   \n",
       "2                             Heikkinen, Miss. Laina  female  26.0      0   \n",
       "3       Futrelle, Mrs. Jacques Heath (Lily May Peel)  female  35.0      1   \n",
       "4                           Allen, Mr. William Henry    male  35.0      0   \n",
       "\n",
       "   Parch            Ticket     Fare Cabin Embarked  \n",
       "0      0         A/5 21171   7.2500   NaN        S  \n",
       "1      0          PC 17599  71.2833   C85        C  \n",
       "2      0  STON/O2. 3101282   7.9250   NaN        S  \n",
       "3      0            113803  53.1000  C123        S  \n",
       "4      0            373450   8.0500   NaN        S  "
      ]
     },
     "execution_count": 7,
     "metadata": {},
     "output_type": "execute_result"
    }
   ],
   "source": [
    "titanic_df.head()"
   ]
  },
  {
   "cell_type": "code",
   "execution_count": 8,
   "id": "e8495c73",
   "metadata": {},
   "outputs": [],
   "source": [
    "# Drop unnecessary columns\n",
    "titanic_df.drop(['PassengerId', 'Name', 'Ticket', 'Cabin'], axis=1, inplace=True)\n"
   ]
  },
  {
   "cell_type": "code",
   "execution_count": 10,
   "id": "c5f3a9d8",
   "metadata": {},
   "outputs": [
    {
     "name": "stdout",
     "output_type": "stream",
     "text": [
      "Survived      0\n",
      "Pclass        0\n",
      "Sex           0\n",
      "Age         177\n",
      "SibSp         0\n",
      "Parch         0\n",
      "Fare          0\n",
      "Embarked      2\n",
      "dtype: int64\n"
     ]
    }
   ],
   "source": [
    "# Check for missing values\n",
    "print(titanic_df.isnull().sum())\n",
    "\n"
   ]
  },
  {
   "cell_type": "code",
   "execution_count": 11,
   "id": "a1eb15f8",
   "metadata": {},
   "outputs": [],
   "source": [
    "# Fill missing values in the Age column with the median age\n",
    "titanic_df['Age'].fillna(titanic_df['Age'].median(), inplace=True)\n"
   ]
  },
  {
   "cell_type": "code",
   "execution_count": 12,
   "id": "42948bd7",
   "metadata": {},
   "outputs": [],
   "source": [
    "# Fill missing values in the Embarked column with the mode (most common value)\n",
    "titanic_df['Embarked'].fillna(titanic_df['Embarked'].mode()[0], inplace=True)\n",
    "\n"
   ]
  },
  {
   "cell_type": "markdown",
   "id": "245d48ea",
   "metadata": {},
   "source": [
    "# Diabetes Dataset"
   ]
  },
  {
   "cell_type": "code",
   "execution_count": 15,
   "id": "8771a682",
   "metadata": {},
   "outputs": [],
   "source": [
    "diabetes_df = pd.read_csv('diabetes.csv')"
   ]
  },
  {
   "cell_type": "code",
   "execution_count": 17,
   "id": "3485707b",
   "metadata": {},
   "outputs": [
    {
     "data": {
      "text/html": [
       "<div>\n",
       "<style scoped>\n",
       "    .dataframe tbody tr th:only-of-type {\n",
       "        vertical-align: middle;\n",
       "    }\n",
       "\n",
       "    .dataframe tbody tr th {\n",
       "        vertical-align: top;\n",
       "    }\n",
       "\n",
       "    .dataframe thead th {\n",
       "        text-align: right;\n",
       "    }\n",
       "</style>\n",
       "<table border=\"1\" class=\"dataframe\">\n",
       "  <thead>\n",
       "    <tr style=\"text-align: right;\">\n",
       "      <th></th>\n",
       "      <th>Pregnancies</th>\n",
       "      <th>Glucose</th>\n",
       "      <th>BloodPressure</th>\n",
       "      <th>SkinThickness</th>\n",
       "      <th>Insulin</th>\n",
       "      <th>BMI</th>\n",
       "      <th>DiabetesPedigreeFunction</th>\n",
       "      <th>Age</th>\n",
       "      <th>Outcome</th>\n",
       "    </tr>\n",
       "  </thead>\n",
       "  <tbody>\n",
       "    <tr>\n",
       "      <th>0</th>\n",
       "      <td>6</td>\n",
       "      <td>148</td>\n",
       "      <td>72</td>\n",
       "      <td>35</td>\n",
       "      <td>0</td>\n",
       "      <td>33.6</td>\n",
       "      <td>0.627</td>\n",
       "      <td>50</td>\n",
       "      <td>1</td>\n",
       "    </tr>\n",
       "    <tr>\n",
       "      <th>1</th>\n",
       "      <td>1</td>\n",
       "      <td>85</td>\n",
       "      <td>66</td>\n",
       "      <td>29</td>\n",
       "      <td>0</td>\n",
       "      <td>26.6</td>\n",
       "      <td>0.351</td>\n",
       "      <td>31</td>\n",
       "      <td>0</td>\n",
       "    </tr>\n",
       "    <tr>\n",
       "      <th>2</th>\n",
       "      <td>8</td>\n",
       "      <td>183</td>\n",
       "      <td>64</td>\n",
       "      <td>0</td>\n",
       "      <td>0</td>\n",
       "      <td>23.3</td>\n",
       "      <td>0.672</td>\n",
       "      <td>32</td>\n",
       "      <td>1</td>\n",
       "    </tr>\n",
       "    <tr>\n",
       "      <th>3</th>\n",
       "      <td>1</td>\n",
       "      <td>89</td>\n",
       "      <td>66</td>\n",
       "      <td>23</td>\n",
       "      <td>94</td>\n",
       "      <td>28.1</td>\n",
       "      <td>0.167</td>\n",
       "      <td>21</td>\n",
       "      <td>0</td>\n",
       "    </tr>\n",
       "    <tr>\n",
       "      <th>4</th>\n",
       "      <td>0</td>\n",
       "      <td>137</td>\n",
       "      <td>40</td>\n",
       "      <td>35</td>\n",
       "      <td>168</td>\n",
       "      <td>43.1</td>\n",
       "      <td>2.288</td>\n",
       "      <td>33</td>\n",
       "      <td>1</td>\n",
       "    </tr>\n",
       "  </tbody>\n",
       "</table>\n",
       "</div>"
      ],
      "text/plain": [
       "   Pregnancies  Glucose  BloodPressure  SkinThickness  Insulin   BMI  \\\n",
       "0            6      148             72             35        0  33.6   \n",
       "1            1       85             66             29        0  26.6   \n",
       "2            8      183             64              0        0  23.3   \n",
       "3            1       89             66             23       94  28.1   \n",
       "4            0      137             40             35      168  43.1   \n",
       "\n",
       "   DiabetesPedigreeFunction  Age  Outcome  \n",
       "0                     0.627   50        1  \n",
       "1                     0.351   31        0  \n",
       "2                     0.672   32        1  \n",
       "3                     0.167   21        0  \n",
       "4                     2.288   33        1  "
      ]
     },
     "execution_count": 17,
     "metadata": {},
     "output_type": "execute_result"
    }
   ],
   "source": [
    "diabetes_df.head()"
   ]
  },
  {
   "cell_type": "code",
   "execution_count": 18,
   "id": "2a45ecf9",
   "metadata": {},
   "outputs": [
    {
     "name": "stdout",
     "output_type": "stream",
     "text": [
      "Pregnancies                 0\n",
      "Glucose                     0\n",
      "BloodPressure               0\n",
      "SkinThickness               0\n",
      "Insulin                     0\n",
      "BMI                         0\n",
      "DiabetesPedigreeFunction    0\n",
      "Age                         0\n",
      "Outcome                     0\n",
      "dtype: int64\n"
     ]
    }
   ],
   "source": [
    "# Check for missing values\n",
    "print(diabetes_df.isnull().sum())"
   ]
  },
  {
   "cell_type": "code",
   "execution_count": 19,
   "id": "a6a394ed",
   "metadata": {},
   "outputs": [
    {
     "name": "stdout",
     "output_type": "stream",
     "text": [
      "Pregnancies                 0\n",
      "Glucose                     0\n",
      "BloodPressure               0\n",
      "SkinThickness               0\n",
      "Insulin                     0\n",
      "BMI                         0\n",
      "DiabetesPedigreeFunction    0\n",
      "Age                         0\n",
      "Outcome                     0\n",
      "dtype: int64\n"
     ]
    }
   ],
   "source": [
    "# Check for missing values\n",
    "print(diabetes_df.isnull().sum())\n"
   ]
  },
  {
   "cell_type": "code",
   "execution_count": 22,
   "id": "85a4008f",
   "metadata": {},
   "outputs": [],
   "source": [
    "# Replace 0 values with NaN for columns that cannot have a value of 0\n",
    "diabetes_df[['Glucose', 'BloodPressure', 'SkinThickness', 'Insulin', 'BMI']] = diabetes_df[['Glucose', 'BloodPressure', 'SkinThickness', 'Insulin', 'BMI']].replace(0, np.NaN)"
   ]
  },
  {
   "cell_type": "code",
   "execution_count": 23,
   "id": "df5710db",
   "metadata": {},
   "outputs": [
    {
     "name": "stdout",
     "output_type": "stream",
     "text": [
      "Pregnancies                   0\n",
      "Glucose                       5\n",
      "BloodPressure                35\n",
      "SkinThickness               227\n",
      "Insulin                     374\n",
      "BMI                          11\n",
      "DiabetesPedigreeFunction      0\n",
      "Age                           0\n",
      "Outcome                       0\n",
      "dtype: int64\n"
     ]
    }
   ],
   "source": [
    "# Check for missing values again\n",
    "print(diabetes_df.isnull().sum())"
   ]
  },
  {
   "cell_type": "code",
   "execution_count": 24,
   "id": "7e03bea0",
   "metadata": {},
   "outputs": [],
   "source": [
    "# Fill missing values with column means\n",
    "diabetes_df.fillna(diabetes_df.mean(), inplace=True)"
   ]
  },
  {
   "cell_type": "code",
   "execution_count": 25,
   "id": "17254d75",
   "metadata": {},
   "outputs": [
    {
     "name": "stdout",
     "output_type": "stream",
     "text": [
      "Pregnancies                 0\n",
      "Glucose                     0\n",
      "BloodPressure               0\n",
      "SkinThickness               0\n",
      "Insulin                     0\n",
      "BMI                         0\n",
      "DiabetesPedigreeFunction    0\n",
      "Age                         0\n",
      "Outcome                     0\n",
      "dtype: int64\n"
     ]
    }
   ],
   "source": [
    "# Check for missing values again\n",
    "print(diabetes_df.isnull().sum())"
   ]
  },
  {
   "cell_type": "markdown",
   "id": "dd83abec",
   "metadata": {},
   "source": [
    "# Real Estate Dataset"
   ]
  },
  {
   "cell_type": "code",
   "execution_count": 38,
   "id": "be71081d",
   "metadata": {},
   "outputs": [],
   "source": [
    "redf = pd.read_excel(\"real_estate_data.xlsx\")"
   ]
  },
  {
   "cell_type": "code",
   "execution_count": 39,
   "id": "967270b1",
   "metadata": {},
   "outputs": [
    {
     "name": "stdout",
     "output_type": "stream",
     "text": [
      "<class 'pandas.core.frame.DataFrame'>\n",
      "RangeIndex: 1883 entries, 0 to 1882\n",
      "Data columns (total 26 columns):\n",
      " #   Column              Non-Null Count  Dtype  \n",
      "---  ------              --------------  -----  \n",
      " 0   tx_price            1883 non-null   int64  \n",
      " 1   beds                1883 non-null   int64  \n",
      " 2   baths               1883 non-null   int64  \n",
      " 3   sqft                1883 non-null   int64  \n",
      " 4   year_built          1883 non-null   int64  \n",
      " 5   lot_size            1883 non-null   int64  \n",
      " 6   property_type       1883 non-null   object \n",
      " 7   exterior_walls      1660 non-null   object \n",
      " 8   roof                1529 non-null   object \n",
      " 9   basement            1657 non-null   float64\n",
      " 10  restaurants         1883 non-null   int64  \n",
      " 11  groceries           1883 non-null   int64  \n",
      " 12  nightlife           1883 non-null   int64  \n",
      " 13  cafes               1883 non-null   int64  \n",
      " 14  shopping            1883 non-null   int64  \n",
      " 15  arts_entertainment  1883 non-null   int64  \n",
      " 16  beauty_spas         1883 non-null   int64  \n",
      " 17  active_life         1883 non-null   int64  \n",
      " 18  median_age          1883 non-null   int64  \n",
      " 19  married             1883 non-null   int64  \n",
      " 20  college_grad        1883 non-null   int64  \n",
      " 21  property_tax        1883 non-null   int64  \n",
      " 22  insurance           1883 non-null   int64  \n",
      " 23  median_school       1883 non-null   float64\n",
      " 24  num_schools         1883 non-null   int64  \n",
      " 25  tx_year             1883 non-null   int64  \n",
      "dtypes: float64(2), int64(21), object(3)\n",
      "memory usage: 382.6+ KB\n"
     ]
    }
   ],
   "source": [
    "redf.info()"
   ]
  },
  {
   "cell_type": "code",
   "execution_count": 41,
   "id": "1ebad938",
   "metadata": {},
   "outputs": [
    {
     "name": "stdout",
     "output_type": "stream",
     "text": [
      "property_type\n",
      "exterior_walls\n",
      "roof\n"
     ]
    }
   ],
   "source": [
    "for i in redf.dtypes[redf.dtypes =='object'].index:\n",
    "    print(i)"
   ]
  },
  {
   "cell_type": "code",
   "execution_count": 42,
   "id": "91f12209",
   "metadata": {},
   "outputs": [
    {
     "data": {
      "text/html": [
       "<div>\n",
       "<style scoped>\n",
       "    .dataframe tbody tr th:only-of-type {\n",
       "        vertical-align: middle;\n",
       "    }\n",
       "\n",
       "    .dataframe tbody tr th {\n",
       "        vertical-align: top;\n",
       "    }\n",
       "\n",
       "    .dataframe thead th {\n",
       "        text-align: right;\n",
       "    }\n",
       "</style>\n",
       "<table border=\"1\" class=\"dataframe\">\n",
       "  <thead>\n",
       "    <tr style=\"text-align: right;\">\n",
       "      <th></th>\n",
       "      <th>tx_price</th>\n",
       "      <th>beds</th>\n",
       "      <th>baths</th>\n",
       "      <th>sqft</th>\n",
       "      <th>year_built</th>\n",
       "      <th>lot_size</th>\n",
       "      <th>property_type</th>\n",
       "      <th>exterior_walls</th>\n",
       "      <th>roof</th>\n",
       "      <th>basement</th>\n",
       "      <th>...</th>\n",
       "      <th>beauty_spas</th>\n",
       "      <th>active_life</th>\n",
       "      <th>median_age</th>\n",
       "      <th>married</th>\n",
       "      <th>college_grad</th>\n",
       "      <th>property_tax</th>\n",
       "      <th>insurance</th>\n",
       "      <th>median_school</th>\n",
       "      <th>num_schools</th>\n",
       "      <th>tx_year</th>\n",
       "    </tr>\n",
       "  </thead>\n",
       "  <tbody>\n",
       "    <tr>\n",
       "      <th>0</th>\n",
       "      <td>295850</td>\n",
       "      <td>1</td>\n",
       "      <td>1</td>\n",
       "      <td>584</td>\n",
       "      <td>2013</td>\n",
       "      <td>0</td>\n",
       "      <td>Apartment / Condo / Townhouse</td>\n",
       "      <td>Wood Siding</td>\n",
       "      <td>NaN</td>\n",
       "      <td>NaN</td>\n",
       "      <td>...</td>\n",
       "      <td>47</td>\n",
       "      <td>58</td>\n",
       "      <td>33</td>\n",
       "      <td>65</td>\n",
       "      <td>84</td>\n",
       "      <td>234</td>\n",
       "      <td>81</td>\n",
       "      <td>9.0</td>\n",
       "      <td>3</td>\n",
       "      <td>2013</td>\n",
       "    </tr>\n",
       "    <tr>\n",
       "      <th>1</th>\n",
       "      <td>216500</td>\n",
       "      <td>1</td>\n",
       "      <td>1</td>\n",
       "      <td>612</td>\n",
       "      <td>1965</td>\n",
       "      <td>0</td>\n",
       "      <td>Apartment / Condo / Townhouse</td>\n",
       "      <td>Brick</td>\n",
       "      <td>Composition Shingle</td>\n",
       "      <td>1.0</td>\n",
       "      <td>...</td>\n",
       "      <td>26</td>\n",
       "      <td>14</td>\n",
       "      <td>39</td>\n",
       "      <td>73</td>\n",
       "      <td>69</td>\n",
       "      <td>169</td>\n",
       "      <td>51</td>\n",
       "      <td>3.0</td>\n",
       "      <td>3</td>\n",
       "      <td>2006</td>\n",
       "    </tr>\n",
       "    <tr>\n",
       "      <th>2</th>\n",
       "      <td>279900</td>\n",
       "      <td>1</td>\n",
       "      <td>1</td>\n",
       "      <td>615</td>\n",
       "      <td>1963</td>\n",
       "      <td>0</td>\n",
       "      <td>Apartment / Condo / Townhouse</td>\n",
       "      <td>Wood Siding</td>\n",
       "      <td>NaN</td>\n",
       "      <td>NaN</td>\n",
       "      <td>...</td>\n",
       "      <td>74</td>\n",
       "      <td>62</td>\n",
       "      <td>28</td>\n",
       "      <td>15</td>\n",
       "      <td>86</td>\n",
       "      <td>216</td>\n",
       "      <td>74</td>\n",
       "      <td>8.0</td>\n",
       "      <td>3</td>\n",
       "      <td>2012</td>\n",
       "    </tr>\n",
       "    <tr>\n",
       "      <th>3</th>\n",
       "      <td>379900</td>\n",
       "      <td>1</td>\n",
       "      <td>1</td>\n",
       "      <td>618</td>\n",
       "      <td>2000</td>\n",
       "      <td>33541</td>\n",
       "      <td>Apartment / Condo / Townhouse</td>\n",
       "      <td>Wood Siding</td>\n",
       "      <td>NaN</td>\n",
       "      <td>NaN</td>\n",
       "      <td>...</td>\n",
       "      <td>72</td>\n",
       "      <td>83</td>\n",
       "      <td>36</td>\n",
       "      <td>25</td>\n",
       "      <td>91</td>\n",
       "      <td>265</td>\n",
       "      <td>92</td>\n",
       "      <td>9.0</td>\n",
       "      <td>3</td>\n",
       "      <td>2005</td>\n",
       "    </tr>\n",
       "    <tr>\n",
       "      <th>4</th>\n",
       "      <td>340000</td>\n",
       "      <td>1</td>\n",
       "      <td>1</td>\n",
       "      <td>634</td>\n",
       "      <td>1992</td>\n",
       "      <td>0</td>\n",
       "      <td>Apartment / Condo / Townhouse</td>\n",
       "      <td>Brick</td>\n",
       "      <td>NaN</td>\n",
       "      <td>NaN</td>\n",
       "      <td>...</td>\n",
       "      <td>50</td>\n",
       "      <td>73</td>\n",
       "      <td>37</td>\n",
       "      <td>20</td>\n",
       "      <td>75</td>\n",
       "      <td>88</td>\n",
       "      <td>30</td>\n",
       "      <td>9.0</td>\n",
       "      <td>3</td>\n",
       "      <td>2002</td>\n",
       "    </tr>\n",
       "    <tr>\n",
       "      <th>5</th>\n",
       "      <td>265000</td>\n",
       "      <td>1</td>\n",
       "      <td>1</td>\n",
       "      <td>641</td>\n",
       "      <td>1947</td>\n",
       "      <td>0</td>\n",
       "      <td>Apartment / Condo / Townhouse</td>\n",
       "      <td>Brick</td>\n",
       "      <td>NaN</td>\n",
       "      <td>NaN</td>\n",
       "      <td>...</td>\n",
       "      <td>60</td>\n",
       "      <td>52</td>\n",
       "      <td>28</td>\n",
       "      <td>15</td>\n",
       "      <td>86</td>\n",
       "      <td>168</td>\n",
       "      <td>58</td>\n",
       "      <td>8.0</td>\n",
       "      <td>3</td>\n",
       "      <td>2004</td>\n",
       "    </tr>\n",
       "    <tr>\n",
       "      <th>6</th>\n",
       "      <td>240000</td>\n",
       "      <td>1</td>\n",
       "      <td>1</td>\n",
       "      <td>642</td>\n",
       "      <td>1944</td>\n",
       "      <td>0</td>\n",
       "      <td>Single-Family</td>\n",
       "      <td>Brick</td>\n",
       "      <td>NaN</td>\n",
       "      <td>NaN</td>\n",
       "      <td>...</td>\n",
       "      <td>66</td>\n",
       "      <td>50</td>\n",
       "      <td>28</td>\n",
       "      <td>36</td>\n",
       "      <td>88</td>\n",
       "      <td>176</td>\n",
       "      <td>61</td>\n",
       "      <td>7.0</td>\n",
       "      <td>3</td>\n",
       "      <td>2011</td>\n",
       "    </tr>\n",
       "    <tr>\n",
       "      <th>7</th>\n",
       "      <td>388100</td>\n",
       "      <td>1</td>\n",
       "      <td>1</td>\n",
       "      <td>650</td>\n",
       "      <td>2000</td>\n",
       "      <td>33541</td>\n",
       "      <td>Apartment / Condo / Townhouse</td>\n",
       "      <td>Wood Siding</td>\n",
       "      <td>NaN</td>\n",
       "      <td>NaN</td>\n",
       "      <td>...</td>\n",
       "      <td>72</td>\n",
       "      <td>83</td>\n",
       "      <td>36</td>\n",
       "      <td>25</td>\n",
       "      <td>91</td>\n",
       "      <td>266</td>\n",
       "      <td>92</td>\n",
       "      <td>9.0</td>\n",
       "      <td>3</td>\n",
       "      <td>2005</td>\n",
       "    </tr>\n",
       "    <tr>\n",
       "      <th>8</th>\n",
       "      <td>240000</td>\n",
       "      <td>1</td>\n",
       "      <td>1</td>\n",
       "      <td>660</td>\n",
       "      <td>1983</td>\n",
       "      <td>0</td>\n",
       "      <td>Apartment / Condo / Townhouse</td>\n",
       "      <td>Brick</td>\n",
       "      <td>NaN</td>\n",
       "      <td>NaN</td>\n",
       "      <td>...</td>\n",
       "      <td>32</td>\n",
       "      <td>41</td>\n",
       "      <td>36</td>\n",
       "      <td>49</td>\n",
       "      <td>77</td>\n",
       "      <td>188</td>\n",
       "      <td>65</td>\n",
       "      <td>6.0</td>\n",
       "      <td>3</td>\n",
       "      <td>2013</td>\n",
       "    </tr>\n",
       "    <tr>\n",
       "      <th>9</th>\n",
       "      <td>250000</td>\n",
       "      <td>1</td>\n",
       "      <td>1</td>\n",
       "      <td>664</td>\n",
       "      <td>1965</td>\n",
       "      <td>0</td>\n",
       "      <td>Apartment / Condo / Townhouse</td>\n",
       "      <td>Brick</td>\n",
       "      <td>NaN</td>\n",
       "      <td>NaN</td>\n",
       "      <td>...</td>\n",
       "      <td>70</td>\n",
       "      <td>36</td>\n",
       "      <td>57</td>\n",
       "      <td>13</td>\n",
       "      <td>83</td>\n",
       "      <td>147</td>\n",
       "      <td>51</td>\n",
       "      <td>6.0</td>\n",
       "      <td>3</td>\n",
       "      <td>2007</td>\n",
       "    </tr>\n",
       "  </tbody>\n",
       "</table>\n",
       "<p>10 rows × 26 columns</p>\n",
       "</div>"
      ],
      "text/plain": [
       "   tx_price  beds  baths  sqft  year_built  lot_size  \\\n",
       "0    295850     1      1   584        2013         0   \n",
       "1    216500     1      1   612        1965         0   \n",
       "2    279900     1      1   615        1963         0   \n",
       "3    379900     1      1   618        2000     33541   \n",
       "4    340000     1      1   634        1992         0   \n",
       "5    265000     1      1   641        1947         0   \n",
       "6    240000     1      1   642        1944         0   \n",
       "7    388100     1      1   650        2000     33541   \n",
       "8    240000     1      1   660        1983         0   \n",
       "9    250000     1      1   664        1965         0   \n",
       "\n",
       "                   property_type exterior_walls                 roof  \\\n",
       "0  Apartment / Condo / Townhouse    Wood Siding                  NaN   \n",
       "1  Apartment / Condo / Townhouse          Brick  Composition Shingle   \n",
       "2  Apartment / Condo / Townhouse    Wood Siding                  NaN   \n",
       "3  Apartment / Condo / Townhouse    Wood Siding                  NaN   \n",
       "4  Apartment / Condo / Townhouse          Brick                  NaN   \n",
       "5  Apartment / Condo / Townhouse          Brick                  NaN   \n",
       "6                  Single-Family          Brick                  NaN   \n",
       "7  Apartment / Condo / Townhouse    Wood Siding                  NaN   \n",
       "8  Apartment / Condo / Townhouse          Brick                  NaN   \n",
       "9  Apartment / Condo / Townhouse          Brick                  NaN   \n",
       "\n",
       "   basement  ...  beauty_spas  active_life  median_age  married  college_grad  \\\n",
       "0       NaN  ...           47           58          33       65            84   \n",
       "1       1.0  ...           26           14          39       73            69   \n",
       "2       NaN  ...           74           62          28       15            86   \n",
       "3       NaN  ...           72           83          36       25            91   \n",
       "4       NaN  ...           50           73          37       20            75   \n",
       "5       NaN  ...           60           52          28       15            86   \n",
       "6       NaN  ...           66           50          28       36            88   \n",
       "7       NaN  ...           72           83          36       25            91   \n",
       "8       NaN  ...           32           41          36       49            77   \n",
       "9       NaN  ...           70           36          57       13            83   \n",
       "\n",
       "   property_tax  insurance  median_school  num_schools  tx_year  \n",
       "0           234         81            9.0            3     2013  \n",
       "1           169         51            3.0            3     2006  \n",
       "2           216         74            8.0            3     2012  \n",
       "3           265         92            9.0            3     2005  \n",
       "4            88         30            9.0            3     2002  \n",
       "5           168         58            8.0            3     2004  \n",
       "6           176         61            7.0            3     2011  \n",
       "7           266         92            9.0            3     2005  \n",
       "8           188         65            6.0            3     2013  \n",
       "9           147         51            6.0            3     2007  \n",
       "\n",
       "[10 rows x 26 columns]"
      ]
     },
     "execution_count": 42,
     "metadata": {},
     "output_type": "execute_result"
    }
   ],
   "source": [
    "redf.head(10)"
   ]
  },
  {
   "cell_type": "code",
   "execution_count": 43,
   "id": "66798a04",
   "metadata": {},
   "outputs": [
    {
     "data": {
      "text/html": [
       "<div>\n",
       "<style scoped>\n",
       "    .dataframe tbody tr th:only-of-type {\n",
       "        vertical-align: middle;\n",
       "    }\n",
       "\n",
       "    .dataframe tbody tr th {\n",
       "        vertical-align: top;\n",
       "    }\n",
       "\n",
       "    .dataframe thead th {\n",
       "        text-align: right;\n",
       "    }\n",
       "</style>\n",
       "<table border=\"1\" class=\"dataframe\">\n",
       "  <thead>\n",
       "    <tr style=\"text-align: right;\">\n",
       "      <th></th>\n",
       "      <th>property_type</th>\n",
       "      <th>exterior_walls</th>\n",
       "      <th>roof</th>\n",
       "    </tr>\n",
       "  </thead>\n",
       "  <tbody>\n",
       "    <tr>\n",
       "      <th>count</th>\n",
       "      <td>1883</td>\n",
       "      <td>1660</td>\n",
       "      <td>1529</td>\n",
       "    </tr>\n",
       "    <tr>\n",
       "      <th>unique</th>\n",
       "      <td>2</td>\n",
       "      <td>16</td>\n",
       "      <td>16</td>\n",
       "    </tr>\n",
       "    <tr>\n",
       "      <th>top</th>\n",
       "      <td>Single-Family</td>\n",
       "      <td>Brick</td>\n",
       "      <td>Composition Shingle</td>\n",
       "    </tr>\n",
       "    <tr>\n",
       "      <th>freq</th>\n",
       "      <td>1080</td>\n",
       "      <td>687</td>\n",
       "      <td>1179</td>\n",
       "    </tr>\n",
       "  </tbody>\n",
       "</table>\n",
       "</div>"
      ],
      "text/plain": [
       "        property_type exterior_walls                 roof\n",
       "count            1883           1660                 1529\n",
       "unique              2             16                   16\n",
       "top     Single-Family          Brick  Composition Shingle\n",
       "freq             1080            687                 1179"
      ]
     },
     "execution_count": 43,
     "metadata": {},
     "output_type": "execute_result"
    }
   ],
   "source": [
    "redf.describe(include=['object'])"
   ]
  },
  {
   "cell_type": "code",
   "execution_count": 44,
   "id": "d11d04a3",
   "metadata": {},
   "outputs": [],
   "source": [
    "redf = redf.drop_duplicates()"
   ]
  },
  {
   "cell_type": "code",
   "execution_count": 45,
   "id": "b0b9cd8e",
   "metadata": {},
   "outputs": [
    {
     "data": {
      "text/plain": [
       "(1883, 26)"
      ]
     },
     "execution_count": 45,
     "metadata": {},
     "output_type": "execute_result"
    }
   ],
   "source": [
    "redf.shape"
   ]
  },
  {
   "cell_type": "code",
   "execution_count": 46,
   "id": "c11a5f1f",
   "metadata": {},
   "outputs": [
    {
     "data": {
      "text/plain": [
       "array([nan,  1.])"
      ]
     },
     "execution_count": 46,
     "metadata": {},
     "output_type": "execute_result"
    }
   ],
   "source": [
    "redf['basement'].unique()"
   ]
  },
  {
   "cell_type": "code",
   "execution_count": 47,
   "id": "bcdcb1b4",
   "metadata": {},
   "outputs": [],
   "source": [
    "redf['basement'] = redf['basement'].fillna(0)"
   ]
  },
  {
   "cell_type": "code",
   "execution_count": 48,
   "id": "f290691e",
   "metadata": {},
   "outputs": [
    {
     "data": {
      "text/plain": [
       "array([0., 1.])"
      ]
     },
     "execution_count": 48,
     "metadata": {},
     "output_type": "execute_result"
    }
   ],
   "source": [
    "redf['basement'].unique()"
   ]
  },
  {
   "cell_type": "code",
   "execution_count": 49,
   "id": "5932c5f9",
   "metadata": {},
   "outputs": [],
   "source": [
    "redf['roof'].replace('composition','Composition',inplace=True)"
   ]
  },
  {
   "cell_type": "code",
   "execution_count": 50,
   "id": "94f0527d",
   "metadata": {},
   "outputs": [],
   "source": [
    "redf['roof'].replace('asphalt','Asphalt',inplace=True)\n",
    "redf['roof'].replace(['shake-shingle','asphalt,shake-shingle'],'Shake Shingle',inplace=True)"
   ]
  },
  {
   "cell_type": "code",
   "execution_count": 51,
   "id": "4cbad6d3",
   "metadata": {},
   "outputs": [],
   "source": [
    "redf['exterior_walls'].replace('Rock,Stone','Masonry',inplace=True)\n",
    "redf['exterior_walls'].replace(['Concrete','Block'],'Concrete Block',inplace=True)"
   ]
  },
  {
   "cell_type": "code",
   "execution_count": 52,
   "id": "320e4c7b",
   "metadata": {},
   "outputs": [
    {
     "data": {
      "text/plain": [
       "tx_price              0\n",
       "beds                  0\n",
       "baths                 0\n",
       "sqft                  0\n",
       "year_built            0\n",
       "lot_size              0\n",
       "basement              0\n",
       "restaurants           0\n",
       "groceries             0\n",
       "nightlife             0\n",
       "cafes                 0\n",
       "shopping              0\n",
       "arts_entertainment    0\n",
       "beauty_spas           0\n",
       "active_life           0\n",
       "median_age            0\n",
       "married               0\n",
       "college_grad          0\n",
       "property_tax          0\n",
       "insurance             0\n",
       "median_school         0\n",
       "num_schools           0\n",
       "tx_year               0\n",
       "dtype: int64"
      ]
     },
     "execution_count": 52,
     "metadata": {},
     "output_type": "execute_result"
    }
   ],
   "source": [
    "redf.select_dtypes(exclude=['object']).isnull().sum()"
   ]
  },
  {
   "cell_type": "code",
   "execution_count": 55,
   "id": "e977ed7e",
   "metadata": {},
   "outputs": [
    {
     "data": {
      "text/plain": [
       "<AxesSubplot:xlabel='count', ylabel='exterior_walls'>"
      ]
     },
     "execution_count": 55,
     "metadata": {},
     "output_type": "execute_result"
    },
    {
     "data": {
      "image/png": "[encoded data removed]",
      "text/plain": [
       "<Figure size 432x288 with 1 Axes>"
      ]
     },
     "metadata": {
      "needs_background": "light"
     },
     "output_type": "display_data"
    }
   ],
   "source": [
    "sns.countplot(data =redf,y='exterior_walls')"
   ]
  },
  {
   "cell_type": "code",
   "execution_count": 56,
   "id": "1259743a",
   "metadata": {},
   "outputs": [],
   "source": [
    "redf['exterior_walls'].replace(['Wood Siding','Wood Shingle'],'Wood',inplace=True)"
   ]
  },
  {
   "cell_type": "code",
   "execution_count": 57,
   "id": "cee86ca9",
   "metadata": {},
   "outputs": [
    {
     "data": {
      "text/plain": [
       "<AxesSubplot:xlabel='count', ylabel='exterior_walls'>"
      ]
     },
     "execution_count": 57,
     "metadata": {},
     "output_type": "execute_result"
    },
    {
     "data": {
      "image/png": "[encoded data removed]",
      "text/plain": [
       "<Figure size 432x288 with 1 Axes>"
      ]
     },
     "metadata": {
      "needs_background": "light"
     },
     "output_type": "display_data"
    }
   ],
   "source": [
    "sns.countplot(data=redf,y = 'exterior_walls')"
   ]
  },
  {
   "cell_type": "code",
   "execution_count": 59,
   "id": "c4bb4331",
   "metadata": {},
   "outputs": [],
   "source": [
    "other_exterior_walls = ['Stucco','Other','Asbestos shingle','Concrete Block',\n",
    "                       'Masonry','Other']\n",
    "redf['exterior_walls'].replace(other_exterior_walls,'Other',inplace=True)"
   ]
  },
  {
   "cell_type": "code",
   "execution_count": 60,
   "id": "f3912207",
   "metadata": {},
   "outputs": [
    {
     "data": {
      "text/plain": [
       "<AxesSubplot:xlabel='count', ylabel='exterior_walls'>"
      ]
     },
     "execution_count": 60,
     "metadata": {},
     "output_type": "execute_result"
    },
    {
     "data": {
      "image/png": "[encoded data removed]",
      "text/plain": [
       "<Figure size 432x288 with 1 Axes>"
      ]
     },
     "metadata": {
      "needs_background": "light"
     },
     "output_type": "display_data"
    }
   ],
   "source": [
    "sns.countplot(data=redf, y='exterior_walls')"
   ]
  },
  {
   "cell_type": "code",
   "execution_count": null,
   "id": "f998de14",
   "metadata": {},
   "outputs": [],
   "source": []
  }
 ],
 "metadata": {
  "kernelspec": {
   "display_name": "Python 3 (ipykernel)",
   "language": "python",
   "name": "python3"
  },
  "language_info": {
   "codemirror_mode": {
    "name": "ipython",
    "version": 3
   },
   "file_extension": ".py",
   "mimetype": "text/x-python",
   "name": "python",
   "nbconvert_exporter": "python",
   "pygments_lexer": "ipython3",
   "version": "3.9.7"
  }
 },
 "nbformat": 4,
 "nbformat_minor": 5
}
